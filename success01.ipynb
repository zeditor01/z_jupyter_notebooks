{
 "cells": [
  {
   "attachments": {},
   "cell_type": "markdown",
   "metadata": {},
   "source": [
    "# Notebook with env = cw01"
   ]
  },
  {
   "cell_type": "code",
   "execution_count": 1,
   "metadata": {},
   "outputs": [
    {
     "name": "stdout",
     "output_type": "stream",
     "text": [
      "Hello World!\n"
     ]
    }
   ],
   "source": [
    "print (\"Hello World!\")"
   ]
  },
  {
   "cell_type": "code",
   "execution_count": null,
   "metadata": {},
   "outputs": [],
   "source": [
    "pip install ipython-sql==0.4.1"
   ]
  },
  {
   "cell_type": "code",
   "execution_count": null,
   "metadata": {},
   "outputs": [],
   "source": [
    "pip install ibm_db"
   ]
  },
  {
   "cell_type": "code",
   "execution_count": null,
   "metadata": {},
   "outputs": [],
   "source": [
    "pip install sqlalchemy==1.4.47"
   ]
  },
  {
   "cell_type": "code",
   "execution_count": null,
   "metadata": {},
   "outputs": [],
   "source": [
    "pip install ibm_db_sa "
   ]
  },
  {
   "cell_type": "code",
   "execution_count": 2,
   "metadata": {},
   "outputs": [],
   "source": [
    "import sys,os,os.path\n",
    "os.environ['IBM_DB_HOME']='C:\\Program Files\\IBM\\SQLLIB'"
   ]
  },
  {
   "cell_type": "code",
   "execution_count": 3,
   "metadata": {},
   "outputs": [],
   "source": [
    "import ibm_db"
   ]
  },
  {
   "cell_type": "code",
   "execution_count": 4,
   "metadata": {},
   "outputs": [],
   "source": [
    "import ibm_db_sa"
   ]
  },
  {
   "cell_type": "code",
   "execution_count": 5,
   "metadata": {},
   "outputs": [],
   "source": [
    "import sqlalchemy"
   ]
  },
  {
   "cell_type": "code",
   "execution_count": 6,
   "metadata": {},
   "outputs": [],
   "source": [
    "%load_ext sql"
   ]
  },
  {
   "cell_type": "code",
   "execution_count": 7,
   "metadata": {},
   "outputs": [],
   "source": [
    "%sql ibm_db_sa://db2admin:l0nep1ne@localhost:50000/SAMPLE"
   ]
  },
  {
   "cell_type": "code",
   "execution_count": null,
   "metadata": {},
   "outputs": [],
   "source": [
    "%sql select name from sysibm.systables"
   ]
  },
  {
   "cell_type": "code",
   "execution_count": 9,
   "metadata": {},
   "outputs": [],
   "source": [
    "%sql ibm_db_sa://IBMUSER:SYS1@192.168.1.171:5045/DALLASD"
   ]
  },
  {
   "cell_type": "code",
   "execution_count": 10,
   "metadata": {},
   "outputs": [
    {
     "name": "stdout",
     "output_type": "stream",
     "text": [
      " * ibm_db_sa://IBMUSER:***@192.168.1.171:5045/DALLASD\n",
      "   ibm_db_sa://db2admin:***@localhost:50000/SAMPLE\n",
      "Done.\n"
     ]
    },
    {
     "data": {
      "text/html": [
       "<table>\n",
       "    <tr>\n",
       "        <th>deptnumb</th>\n",
       "        <th>deptname</th>\n",
       "        <th>manager</th>\n",
       "        <th>division</th>\n",
       "        <th>location</th>\n",
       "    </tr>\n",
       "    <tr>\n",
       "        <td>10</td>\n",
       "        <td>HEAD OFFICE</td>\n",
       "        <td>160</td>\n",
       "        <td>CORPORATE</td>\n",
       "        <td>NEW YORK</td>\n",
       "    </tr>\n",
       "    <tr>\n",
       "        <td>15</td>\n",
       "        <td>NEW ENGLAND</td>\n",
       "        <td>50</td>\n",
       "        <td>EASTERN</td>\n",
       "        <td>BOSTON</td>\n",
       "    </tr>\n",
       "    <tr>\n",
       "        <td>20</td>\n",
       "        <td>MID ATLANTIC</td>\n",
       "        <td>10</td>\n",
       "        <td>EASTERN</td>\n",
       "        <td>WASHINGTON</td>\n",
       "    </tr>\n",
       "    <tr>\n",
       "        <td>38</td>\n",
       "        <td>SOUTH ATLANTIC</td>\n",
       "        <td>30</td>\n",
       "        <td>EASTERN</td>\n",
       "        <td>ATLANTA</td>\n",
       "    </tr>\n",
       "    <tr>\n",
       "        <td>42</td>\n",
       "        <td>GREAT LAKES</td>\n",
       "        <td>100</td>\n",
       "        <td>MIDWEST</td>\n",
       "        <td>CHICAGO</td>\n",
       "    </tr>\n",
       "    <tr>\n",
       "        <td>51</td>\n",
       "        <td>PLAINS</td>\n",
       "        <td>140</td>\n",
       "        <td>MIDWEST</td>\n",
       "        <td>DALLAS</td>\n",
       "    </tr>\n",
       "    <tr>\n",
       "        <td>66</td>\n",
       "        <td>PACIFIC</td>\n",
       "        <td>270</td>\n",
       "        <td>WESTERN</td>\n",
       "        <td>SAN FRANCISCO</td>\n",
       "    </tr>\n",
       "    <tr>\n",
       "        <td>84</td>\n",
       "        <td>MOUNTAIN</td>\n",
       "        <td>290</td>\n",
       "        <td>WESTERN</td>\n",
       "        <td>DENVER</td>\n",
       "    </tr>\n",
       "</table>"
      ],
      "text/plain": [
       "[(10, 'HEAD OFFICE', 160, 'CORPORATE', 'NEW YORK'),\n",
       " (15, 'NEW ENGLAND', 50, 'EASTERN', 'BOSTON'),\n",
       " (20, 'MID ATLANTIC', 10, 'EASTERN', 'WASHINGTON'),\n",
       " (38, 'SOUTH ATLANTIC', 30, 'EASTERN', 'ATLANTA'),\n",
       " (42, 'GREAT LAKES', 100, 'MIDWEST', 'CHICAGO'),\n",
       " (51, 'PLAINS', 140, 'MIDWEST', 'DALLAS'),\n",
       " (66, 'PACIFIC', 270, 'WESTERN', 'SAN FRANCISCO'),\n",
       " (84, 'MOUNTAIN', 290, 'WESTERN', 'DENVER')]"
      ]
     },
     "execution_count": 10,
     "metadata": {},
     "output_type": "execute_result"
    }
   ],
   "source": [
    "%sql select * from Q.ORG"
   ]
  },
  {
   "cell_type": "code",
   "execution_count": 11,
   "metadata": {},
   "outputs": [
    {
     "name": "stdout",
     "output_type": "stream",
     "text": [
      " * ibm_db_sa://IBMUSER:***@192.168.1.171:5045/DALLASD\n",
      "   ibm_db_sa://db2admin:***@localhost:50000/SAMPLE\n",
      "Done.\n",
      "1 rows affected.\n",
      "Done.\n"
     ]
    },
    {
     "data": {
      "text/html": [
       "<table>\n",
       "    <tr>\n",
       "        <th>deptnumb</th>\n",
       "        <th>deptname</th>\n",
       "        <th>manager</th>\n",
       "        <th>division</th>\n",
       "        <th>location</th>\n",
       "    </tr>\n",
       "    <tr>\n",
       "        <td>10</td>\n",
       "        <td>HEAD OFFICE</td>\n",
       "        <td>160</td>\n",
       "        <td>CORPORATE</td>\n",
       "        <td>NEW YORK</td>\n",
       "    </tr>\n",
       "    <tr>\n",
       "        <td>15</td>\n",
       "        <td>NEW ENGLAND</td>\n",
       "        <td>50</td>\n",
       "        <td>EASTERN</td>\n",
       "        <td>BOSTON</td>\n",
       "    </tr>\n",
       "    <tr>\n",
       "        <td>20</td>\n",
       "        <td>MID ATLANTIC</td>\n",
       "        <td>10</td>\n",
       "        <td>EASTERN</td>\n",
       "        <td>WASHINGTON</td>\n",
       "    </tr>\n",
       "    <tr>\n",
       "        <td>38</td>\n",
       "        <td>SOUTH ATLANTIC</td>\n",
       "        <td>30</td>\n",
       "        <td>EASTERN</td>\n",
       "        <td>ATLANTA</td>\n",
       "    </tr>\n",
       "    <tr>\n",
       "        <td>42</td>\n",
       "        <td>GREAT LAKES</td>\n",
       "        <td>100</td>\n",
       "        <td>MIDWEST</td>\n",
       "        <td>CHICAGO</td>\n",
       "    </tr>\n",
       "    <tr>\n",
       "        <td>51</td>\n",
       "        <td>PLAINS</td>\n",
       "        <td>140</td>\n",
       "        <td>MIDWEST</td>\n",
       "        <td>DALLAS</td>\n",
       "    </tr>\n",
       "    <tr>\n",
       "        <td>66</td>\n",
       "        <td>NEW DEPT NAME</td>\n",
       "        <td>270</td>\n",
       "        <td>WESTERN</td>\n",
       "        <td>SAN FRANCISCO</td>\n",
       "    </tr>\n",
       "    <tr>\n",
       "        <td>84</td>\n",
       "        <td>MOUNTAIN</td>\n",
       "        <td>290</td>\n",
       "        <td>WESTERN</td>\n",
       "        <td>DENVER</td>\n",
       "    </tr>\n",
       "</table>"
      ],
      "text/plain": [
       "[(10, 'HEAD OFFICE', 160, 'CORPORATE', 'NEW YORK'),\n",
       " (15, 'NEW ENGLAND', 50, 'EASTERN', 'BOSTON'),\n",
       " (20, 'MID ATLANTIC', 10, 'EASTERN', 'WASHINGTON'),\n",
       " (38, 'SOUTH ATLANTIC', 30, 'EASTERN', 'ATLANTA'),\n",
       " (42, 'GREAT LAKES', 100, 'MIDWEST', 'CHICAGO'),\n",
       " (51, 'PLAINS', 140, 'MIDWEST', 'DALLAS'),\n",
       " (66, 'NEW DEPT NAME', 270, 'WESTERN', 'SAN FRANCISCO'),\n",
       " (84, 'MOUNTAIN', 290, 'WESTERN', 'DENVER')]"
      ]
     },
     "execution_count": 11,
     "metadata": {},
     "output_type": "execute_result"
    }
   ],
   "source": [
    "%%sql \n",
    "update Q.ORG set deptname = 'NEW DEPT NAME' where deptnumb = 66 ;\n",
    "select * from Q.ORG ;"
   ]
  }
 ],
 "metadata": {
  "kernelspec": {
   "display_name": "cw01",
   "language": "python",
   "name": "python3"
  },
  "language_info": {
   "codemirror_mode": {
    "name": "ipython",
    "version": 3
   },
   "file_extension": ".py",
   "mimetype": "text/x-python",
   "name": "python",
   "nbconvert_exporter": "python",
   "pygments_lexer": "ipython3",
   "version": "3.11.3"
  },
  "orig_nbformat": 4
 },
 "nbformat": 4,
 "nbformat_minor": 2
}
